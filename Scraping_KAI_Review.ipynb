{
  "nbformat": 4,
  "nbformat_minor": 0,
  "metadata": {
    "colab": {
      "provenance": []
    },
    "kernelspec": {
      "name": "python3",
      "display_name": "Python 3"
    },
    "language_info": {
      "name": "python"
    }
  },
  "cells": [
    {
      "cell_type": "code",
      "execution_count": null,
      "metadata": {
        "colab": {
          "base_uri": "https://localhost:8080/"
        },
        "id": "LgREjzzVYv0I",
        "outputId": "95200709-1fb1-455f-a831-1d117c2554b9"
      },
      "outputs": [
        {
          "output_type": "stream",
          "name": "stdout",
          "text": [
            "Collecting google-play-scraper\n",
            "  Downloading google_play_scraper-1.2.7-py3-none-any.whl.metadata (50 kB)\n",
            "\u001b[?25l     \u001b[90m━━━━━━━━━━━━━━━━━━━━━━━━━━━━━━━━━━━━━━━━\u001b[0m \u001b[32m0.0/50.2 kB\u001b[0m \u001b[31m?\u001b[0m eta \u001b[36m-:--:--\u001b[0m\r\u001b[2K     \u001b[90m━━━━━━━━━━━━━━━━━━━━━━━━━━━━━━━━━━━━━━━━\u001b[0m \u001b[32m50.2/50.2 kB\u001b[0m \u001b[31m2.4 MB/s\u001b[0m eta \u001b[36m0:00:00\u001b[0m\n",
            "\u001b[?25hDownloading google_play_scraper-1.2.7-py3-none-any.whl (28 kB)\n",
            "Installing collected packages: google-play-scraper\n",
            "Successfully installed google-play-scraper-1.2.7\n"
          ]
        }
      ],
      "source": [
        "!pip install google-play-scraper"
      ]
    },
    {
      "cell_type": "code",
      "source": [
        "from google_play_scraper import reviews, Sort\n",
        "import pandas as pd\n",
        "\n",
        "result, continuation_token = reviews(\n",
        "    'com.kai.kaiticketing',  # ID aplikasi\n",
        "    lang='id',              # Bahasa Indonesia\n",
        "    country='id',           # Negara Indonesia\n",
        "    sort=Sort.MOST_RELEVANT, # Mengurutkan berdasarkan relevansi\n",
        "    count=50000               # Jumlah review yang diambil\n",
        ")\n",
        "\n",
        "# Konversi hasil menjadi DataFrame untuk analisis lebih lanjut\n",
        "df = pd.DataFrame(result)\n",
        "df.info()"
      ],
      "metadata": {
        "colab": {
          "base_uri": "https://localhost:8080/"
        },
        "id": "Thc9weNQZYZa",
        "outputId": "4663d2e1-f3ae-41cb-d5b3-b33f22b53140"
      },
      "execution_count": null,
      "outputs": [
        {
          "output_type": "stream",
          "name": "stdout",
          "text": [
            "<class 'pandas.core.frame.DataFrame'>\n",
            "RangeIndex: 50000 entries, 0 to 49999\n",
            "Data columns (total 11 columns):\n",
            " #   Column                Non-Null Count  Dtype         \n",
            "---  ------                --------------  -----         \n",
            " 0   reviewId              50000 non-null  object        \n",
            " 1   userName              50000 non-null  object        \n",
            " 2   userImage             50000 non-null  object        \n",
            " 3   content               50000 non-null  object        \n",
            " 4   score                 50000 non-null  int64         \n",
            " 5   thumbsUpCount         50000 non-null  int64         \n",
            " 6   reviewCreatedVersion  40655 non-null  object        \n",
            " 7   at                    50000 non-null  datetime64[ns]\n",
            " 8   replyContent          7843 non-null   object        \n",
            " 9   repliedAt             7843 non-null   datetime64[ns]\n",
            " 10  appVersion            40655 non-null  object        \n",
            "dtypes: datetime64[ns](2), int64(2), object(7)\n",
            "memory usage: 4.2+ MB\n"
          ]
        }
      ]
    },
    {
      "cell_type": "code",
      "source": [
        "#save to csv\n",
        "df.to_csv('kai_google_play_reviews.csv', index=False)"
      ],
      "metadata": {
        "id": "0yOlFuetb3nQ"
      },
      "execution_count": null,
      "outputs": []
    }
  ]
}